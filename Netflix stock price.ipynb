{
 "cells": [
  {
   "cell_type": "code",
   "execution_count": null,
   "metadata": {},
   "outputs": [],
   "source": [
    "#downloading the data from github\n",
    "\n",
    "wget https://raw.githubusercontent.com/balazek/deep-learning-course/master/Netflix_train.csv\n",
    "\n",
    "wget https://raw.githubusercontent.com/balazek/deep-learning-course/master/Netflix_test.csv"
   ]
  },
  {
   "cell_type": "code",
   "execution_count": 2,
   "metadata": {},
   "outputs": [],
   "source": [
    "# importing the libraries\n",
    "import numpy as np\n",
    "import matplotlib.pyplot as plt\n",
    "import pandas as pd"
   ]
  },
  {
   "cell_type": "code",
   "execution_count": 3,
   "metadata": {},
   "outputs": [],
   "source": [
    "#importing the dataset\n",
    "\n",
    "# load the file contents \n",
    "dataset_train = pd.read_csv('Netflix_train.csv')"
   ]
  },
  {
   "cell_type": "code",
   "execution_count": 4,
   "metadata": {},
   "outputs": [
    {
     "data": {
      "text/html": [
       "<div>\n",
       "<style scoped>\n",
       "    .dataframe tbody tr th:only-of-type {\n",
       "        vertical-align: middle;\n",
       "    }\n",
       "\n",
       "    .dataframe tbody tr th {\n",
       "        vertical-align: top;\n",
       "    }\n",
       "\n",
       "    .dataframe thead th {\n",
       "        text-align: right;\n",
       "    }\n",
       "</style>\n",
       "<table border=\"1\" class=\"dataframe\">\n",
       "  <thead>\n",
       "    <tr style=\"text-align: right;\">\n",
       "      <th></th>\n",
       "      <th>Date</th>\n",
       "      <th>Open</th>\n",
       "      <th>High</th>\n",
       "      <th>Low</th>\n",
       "      <th>Close</th>\n",
       "      <th>Adj Close</th>\n",
       "      <th>Volume</th>\n",
       "    </tr>\n",
       "  </thead>\n",
       "  <tbody>\n",
       "    <tr>\n",
       "      <th>0</th>\n",
       "      <td>2009-07-31</td>\n",
       "      <td>6.194286</td>\n",
       "      <td>6.348571</td>\n",
       "      <td>6.192857</td>\n",
       "      <td>6.277143</td>\n",
       "      <td>6.277143</td>\n",
       "      <td>7630000</td>\n",
       "    </tr>\n",
       "    <tr>\n",
       "      <th>1</th>\n",
       "      <td>2009-08-03</td>\n",
       "      <td>6.335714</td>\n",
       "      <td>6.424286</td>\n",
       "      <td>6.258572</td>\n",
       "      <td>6.424286</td>\n",
       "      <td>6.424286</td>\n",
       "      <td>8444100</td>\n",
       "    </tr>\n",
       "    <tr>\n",
       "      <th>2</th>\n",
       "      <td>2009-08-04</td>\n",
       "      <td>6.400000</td>\n",
       "      <td>6.414286</td>\n",
       "      <td>6.235714</td>\n",
       "      <td>6.311429</td>\n",
       "      <td>6.311429</td>\n",
       "      <td>8518300</td>\n",
       "    </tr>\n",
       "    <tr>\n",
       "      <th>3</th>\n",
       "      <td>2009-08-05</td>\n",
       "      <td>6.338572</td>\n",
       "      <td>6.357143</td>\n",
       "      <td>6.245714</td>\n",
       "      <td>6.330000</td>\n",
       "      <td>6.330000</td>\n",
       "      <td>6419700</td>\n",
       "    </tr>\n",
       "    <tr>\n",
       "      <th>4</th>\n",
       "      <td>2009-08-06</td>\n",
       "      <td>6.285714</td>\n",
       "      <td>6.355714</td>\n",
       "      <td>6.200000</td>\n",
       "      <td>6.214286</td>\n",
       "      <td>6.214286</td>\n",
       "      <td>7716100</td>\n",
       "    </tr>\n",
       "  </tbody>\n",
       "</table>\n",
       "</div>"
      ],
      "text/plain": [
       "         Date      Open      High       Low     Close  Adj Close   Volume\n",
       "0  2009-07-31  6.194286  6.348571  6.192857  6.277143   6.277143  7630000\n",
       "1  2009-08-03  6.335714  6.424286  6.258572  6.424286   6.424286  8444100\n",
       "2  2009-08-04  6.400000  6.414286  6.235714  6.311429   6.311429  8518300\n",
       "3  2009-08-05  6.338572  6.357143  6.245714  6.330000   6.330000  6419700\n",
       "4  2009-08-06  6.285714  6.355714  6.200000  6.214286   6.214286  7716100"
      ]
     },
     "execution_count": 4,
     "metadata": {},
     "output_type": "execute_result"
    }
   ],
   "source": [
    "#showing the data\n",
    "dataset_train.head()"
   ]
  },
  {
   "cell_type": "code",
   "execution_count": 5,
   "metadata": {},
   "outputs": [],
   "source": [
    "# Create a subtable called \"training_set\"\n",
    "# Reading the first column\n",
    "training_set = dataset_train.iloc[:, 1:2].values "
   ]
  },
  {
   "cell_type": "code",
   "execution_count": 6,
   "metadata": {},
   "outputs": [
    {
     "data": {
      "text/plain": [
       "array([[  6.194286],\n",
       "       [  6.335714],\n",
       "       [  6.4     ],\n",
       "       ...,\n",
       "       [328.790009],\n",
       "       [335.980011],\n",
       "       [329.200012]])"
      ]
     },
     "execution_count": 6,
     "metadata": {},
     "output_type": "execute_result"
    }
   ],
   "source": [
    "#showing the all data from first column\n",
    "training_set"
   ]
  },
  {
   "cell_type": "code",
   "execution_count": 7,
   "metadata": {},
   "outputs": [],
   "source": [
    "# Feature Scaling\n",
    "\n",
    "# import the MinMaxScaler from scikit learn\n",
    "from sklearn.preprocessing import MinMaxScaler"
   ]
  },
  {
   "cell_type": "code",
   "execution_count": 8,
   "metadata": {},
   "outputs": [],
   "source": [
    "# create a scaler instance to rescale all data to the range of 0.0 to 1.0 \n",
    "sc = MinMaxScaler(feature_range = (0, 1))"
   ]
  },
  {
   "cell_type": "code",
   "execution_count": 9,
   "metadata": {},
   "outputs": [],
   "source": [
    "#Fitting a scaler to the data set\n",
    "training_set_scaled = sc.fit_transform(training_set)"
   ]
  },
  {
   "cell_type": "code",
   "execution_count": 10,
   "metadata": {},
   "outputs": [
    {
     "data": {
      "text/plain": [
       "array([[0.00112731],\n",
       "       [0.00146757],\n",
       "       [0.00162223],\n",
       "       ...,\n",
       "       [0.77724278],\n",
       "       [0.79454081],\n",
       "       [0.77822918]])"
      ]
     },
     "execution_count": 10,
     "metadata": {},
     "output_type": "execute_result"
    }
   ],
   "source": [
    "#Showing the scaled data\n",
    "training_set_scaled"
   ]
  },
  {
   "cell_type": "code",
   "execution_count": 11,
   "metadata": {},
   "outputs": [],
   "source": [
    "# Creating a data structure with 90 timesteps and 1 output\n",
    "\n",
    "# the 90 stock prices \n",
    "X_train = [] "
   ]
  },
  {
   "cell_type": "code",
   "execution_count": 12,
   "metadata": {},
   "outputs": [
    {
     "data": {
      "text/plain": [
       "(2516, 1)"
      ]
     },
     "execution_count": 12,
     "metadata": {},
     "output_type": "execute_result"
    }
   ],
   "source": [
    "#showing the days worth of data and number of columns\n",
    "training_set_scaled.shape"
   ]
  },
  {
   "cell_type": "code",
   "execution_count": 13,
   "metadata": {},
   "outputs": [],
   "source": [
    "# the stock price today\n",
    "y_train = [] "
   ]
  },
  {
   "cell_type": "code",
   "execution_count": 14,
   "metadata": {},
   "outputs": [],
   "source": [
    "# creating the foor-loop and appending the values\n",
    "\n",
    "for i in range(90, 2516): \n",
    "    X_train.append(training_set_scaled[i-90:i, 0]) \n",
    "    y_train.append(training_set_scaled[i, 0])"
   ]
  },
  {
   "cell_type": "code",
   "execution_count": 15,
   "metadata": {},
   "outputs": [],
   "source": [
    "#converting tables to numpy arrays\n",
    "X_train, y_train = np.array(X_train), np.array(y_train)"
   ]
  },
  {
   "cell_type": "code",
   "execution_count": 16,
   "metadata": {},
   "outputs": [
    {
     "data": {
      "text/plain": [
       "array([[0.00112731, 0.00146757, 0.00162223, ..., 0.00653359, 0.00619677,\n",
       "        0.0058084 ],\n",
       "       [0.00146757, 0.00162223, 0.00147444, ..., 0.00619677, 0.0058084 ,\n",
       "        0.00528942],\n",
       "       [0.00162223, 0.00147444, 0.00134727, ..., 0.0058084 , 0.00528942,\n",
       "        0.00549564],\n",
       "       ...,\n",
       "       [0.86772659, 0.84970683, 0.88601103, ..., 0.73550134, 0.73326392,\n",
       "        0.75335267],\n",
       "       [0.84970683, 0.88601103, 0.89070246, ..., 0.73326392, 0.75335267,\n",
       "        0.77724278],\n",
       "       [0.88601103, 0.89070246, 0.84992335, ..., 0.75335267, 0.77724278,\n",
       "        0.79454081]])"
      ]
     },
     "execution_count": 16,
     "metadata": {},
     "output_type": "execute_result"
    }
   ],
   "source": [
    "#showing the numpy array\n",
    "X_train"
   ]
  },
  {
   "cell_type": "code",
   "execution_count": 17,
   "metadata": {},
   "outputs": [],
   "source": [
    "# Reshaping the data matrix and adding extra dimension\n",
    "X_train = np.reshape(X_train, (X_train.shape[0], X_train.shape[1], 1))"
   ]
  },
  {
   "cell_type": "code",
   "execution_count": 19,
   "metadata": {},
   "outputs": [],
   "source": [
    "# Importing the Keras libraries and packages\n",
    "from keras.models import Sequential\n",
    "from keras.layers import Dense\n",
    "from keras.layers import LSTM\n",
    "from keras.layers import Dropout"
   ]
  },
  {
   "cell_type": "code",
   "execution_count": 20,
   "metadata": {},
   "outputs": [],
   "source": [
    "# Initialising the RNN as a sequence of layers\n",
    "regressor = Sequential()"
   ]
  },
  {
   "cell_type": "code",
   "execution_count": 21,
   "metadata": {},
   "outputs": [],
   "source": [
    "# Adding the input layer and the LSTM layer\n",
    "regressor.add(LSTM(units = 50, return_sequences = True, input_shape =  (X_train.shape[1], 1)))"
   ]
  },
  {
   "cell_type": "code",
   "execution_count": 22,
   "metadata": {},
   "outputs": [],
   "source": [
    "#adding the dropout\n",
    "# the argument is the dropout rate to ignore in the layers (20%), \n",
    "# i.e. 50 units * 20% = 10 units will be dropped each time\n",
    "regressor.add(Dropout(0.2))\n"
   ]
  },
  {
   "cell_type": "code",
   "execution_count": 25,
   "metadata": {},
   "outputs": [],
   "source": [
    "# Adding a second LSTM layer and some Dropout regularisation\n",
    "regressor.add(LSTM(units = 50, return_sequences = True))\n",
    "regressor.add(Dropout(0.2))"
   ]
  },
  {
   "cell_type": "code",
   "execution_count": 26,
   "metadata": {},
   "outputs": [],
   "source": [
    "# Adding a third LSTM layer and some Dropout regularisation\n",
    "regressor.add(LSTM(units = 50, return_sequences = True))\n",
    "regressor.add(Dropout(0.2))"
   ]
  },
  {
   "cell_type": "code",
   "execution_count": 27,
   "metadata": {},
   "outputs": [],
   "source": [
    "# Adding a fourth LSTM layer and some Dropout regularisation\n",
    "# we removed the return_sequences because we no longer return a \n",
    "# sequence but a value instead\n",
    "regressor.add(LSTM(units = 50))\n",
    "#adding the dropout\n",
    "regressor.add(Dropout(0.2))"
   ]
  },
  {
   "cell_type": "code",
   "execution_count": 28,
   "metadata": {},
   "outputs": [],
   "source": [
    "# Adding the output layer\n",
    "regressor.add(Dense(units = 1))"
   ]
  },
  {
   "cell_type": "code",
   "execution_count": 29,
   "metadata": {},
   "outputs": [],
   "source": [
    "# Compiling the RNN\n",
    "regressor.compile(optimizer = 'adam', loss = 'mean_squared_error')"
   ]
  },
  {
   "cell_type": "code",
   "execution_count": 30,
   "metadata": {},
   "outputs": [
    {
     "name": "stdout",
     "output_type": "stream",
     "text": [
      "Epoch 1/100\n",
      "76/76 [==============================] - 21s 277ms/step - loss: 0.0128\n",
      "Epoch 2/100\n",
      "76/76 [==============================] - 17s 222ms/step - loss: 0.0032\n",
      "Epoch 3/100\n",
      "76/76 [==============================] - 17s 225ms/step - loss: 0.0023\n",
      "Epoch 4/100\n",
      "76/76 [==============================] - 16s 214ms/step - loss: 0.0026\n",
      "Epoch 5/100\n",
      "76/76 [==============================] - 15s 192ms/step - loss: 0.0023\n",
      "Epoch 6/100\n",
      "76/76 [==============================] - 17s 221ms/step - loss: 0.0024\n",
      "Epoch 7/100\n",
      "76/76 [==============================] - 24s 317ms/step - loss: 0.0021\n",
      "Epoch 8/100\n",
      "76/76 [==============================] - 18s 237ms/step - loss: 0.0018\n",
      "Epoch 9/100\n",
      "76/76 [==============================] - 14s 181ms/step - loss: 0.0019\n",
      "Epoch 10/100\n",
      "76/76 [==============================] - 12s 163ms/step - loss: 0.0020\n",
      "Epoch 11/100\n",
      "76/76 [==============================] - 13s 174ms/step - loss: 0.0017\n",
      "Epoch 12/100\n",
      "76/76 [==============================] - 13s 171ms/step - loss: 0.0017\n",
      "Epoch 13/100\n",
      "76/76 [==============================] - 12s 162ms/step - loss: 0.0019\n",
      "Epoch 14/100\n",
      "76/76 [==============================] - 15s 201ms/step - loss: 0.0016\n",
      "Epoch 15/100\n",
      "76/76 [==============================] - 13s 172ms/step - loss: 0.0016\n",
      "Epoch 16/100\n",
      "76/76 [==============================] - 12s 159ms/step - loss: 0.0014\n",
      "Epoch 17/100\n",
      "76/76 [==============================] - 13s 165ms/step - loss: 0.0014\n",
      "Epoch 18/100\n",
      "76/76 [==============================] - 13s 165ms/step - loss: 0.0015\n",
      "Epoch 19/100\n",
      "76/76 [==============================] - 13s 167ms/step - loss: 0.0014\n",
      "Epoch 20/100\n",
      "76/76 [==============================] - 12s 164ms/step - loss: 0.0013\n",
      "Epoch 21/100\n",
      "76/76 [==============================] - 13s 172ms/step - loss: 0.0015\n",
      "Epoch 22/100\n",
      "76/76 [==============================] - 12s 163ms/step - loss: 0.0016\n",
      "Epoch 23/100\n",
      "76/76 [==============================] - 12s 163ms/step - loss: 0.0014\n",
      "Epoch 24/100\n",
      "76/76 [==============================] - 12s 158ms/step - loss: 0.0013\n",
      "Epoch 25/100\n",
      "76/76 [==============================] - 12s 161ms/step - loss: 0.0012\n",
      "Epoch 26/100\n",
      "76/76 [==============================] - 13s 170ms/step - loss: 0.0014\n",
      "Epoch 27/100\n",
      "76/76 [==============================] - 12s 158ms/step - loss: 0.0014\n",
      "Epoch 28/100\n",
      "76/76 [==============================] - 12s 158ms/step - loss: 0.0012\n",
      "Epoch 29/100\n",
      "76/76 [==============================] - 12s 157ms/step - loss: 0.0013\n",
      "Epoch 30/100\n",
      "76/76 [==============================] - 12s 160ms/step - loss: 0.0012\n",
      "Epoch 31/100\n",
      "76/76 [==============================] - 12s 157ms/step - loss: 0.0013\n",
      "Epoch 32/100\n",
      "76/76 [==============================] - 12s 161ms/step - loss: 0.0013\n",
      "Epoch 33/100\n",
      "76/76 [==============================] - 12s 164ms/step - loss: 0.0012\n",
      "Epoch 34/100\n",
      "76/76 [==============================] - 12s 160ms/step - loss: 0.0011\n",
      "Epoch 35/100\n",
      "76/76 [==============================] - 12s 159ms/step - loss: 0.0013\n",
      "Epoch 36/100\n",
      "76/76 [==============================] - 12s 157ms/step - loss: 0.0011\n",
      "Epoch 37/100\n",
      "76/76 [==============================] - 12s 162ms/step - loss: 0.0012\n",
      "Epoch 38/100\n",
      "76/76 [==============================] - 14s 188ms/step - loss: 0.0011\n",
      "Epoch 39/100\n",
      "76/76 [==============================] - 17s 229ms/step - loss: 0.0011\n",
      "Epoch 40/100\n",
      "76/76 [==============================] - 17s 229ms/step - loss: 0.0011\n",
      "Epoch 41/100\n",
      "76/76 [==============================] - 18s 231ms/step - loss: 0.0012\n",
      "Epoch 42/100\n",
      "76/76 [==============================] - 17s 229ms/step - loss: 9.9154e-04\n",
      "Epoch 43/100\n",
      "76/76 [==============================] - 22s 289ms/step - loss: 0.0012\n",
      "Epoch 44/100\n",
      "76/76 [==============================] - 19s 255ms/step - loss: 0.0010\n",
      "Epoch 45/100\n",
      "76/76 [==============================] - 21s 276ms/step - loss: 0.0012\n",
      "Epoch 46/100\n",
      "76/76 [==============================] - 19s 255ms/step - loss: 0.0010\n",
      "Epoch 47/100\n",
      "76/76 [==============================] - 18s 240ms/step - loss: 0.0013\n",
      "Epoch 48/100\n",
      "76/76 [==============================] - 18s 232ms/step - loss: 0.0012\n",
      "Epoch 49/100\n",
      "76/76 [==============================] - 19s 250ms/step - loss: 9.6405e-04\n",
      "Epoch 50/100\n",
      "76/76 [==============================] - 19s 253ms/step - loss: 9.7936e-04\n",
      "Epoch 51/100\n",
      "76/76 [==============================] - 23s 305ms/step - loss: 9.3347e-04\n",
      "Epoch 52/100\n",
      "76/76 [==============================] - 21s 280ms/step - loss: 9.7768e-04\n",
      "Epoch 53/100\n",
      "76/76 [==============================] - 21s 271ms/step - loss: 0.0012\n",
      "Epoch 54/100\n",
      "76/76 [==============================] - 20s 265ms/step - loss: 9.4817e-04\n",
      "Epoch 55/100\n",
      "76/76 [==============================] - 25s 328ms/step - loss: 9.7133e-04\n",
      "Epoch 56/100\n",
      "76/76 [==============================] - 25s 334ms/step - loss: 8.8771e-04\n",
      "Epoch 57/100\n",
      "76/76 [==============================] - 20s 264ms/step - loss: 9.8092e-04\n",
      "Epoch 58/100\n",
      "76/76 [==============================] - 21s 274ms/step - loss: 9.6011e-04\n",
      "Epoch 59/100\n",
      "76/76 [==============================] - 19s 253ms/step - loss: 9.1088e-04\n",
      "Epoch 60/100\n",
      "76/76 [==============================] - 19s 254ms/step - loss: 8.6971e-04\n",
      "Epoch 61/100\n",
      "76/76 [==============================] - 21s 272ms/step - loss: 9.8991e-04\n",
      "Epoch 62/100\n",
      "76/76 [==============================] - 19s 255ms/step - loss: 9.9051e-04\n",
      "Epoch 63/100\n",
      "76/76 [==============================] - 19s 250ms/step - loss: 9.1208e-04\n",
      "Epoch 64/100\n",
      "76/76 [==============================] - 20s 266ms/step - loss: 0.0011\n",
      "Epoch 65/100\n",
      "76/76 [==============================] - 20s 258ms/step - loss: 9.3244e-04\n",
      "Epoch 66/100\n",
      "76/76 [==============================] - 21s 275ms/step - loss: 9.3514e-04\n",
      "Epoch 67/100\n",
      "76/76 [==============================] - 30s 392ms/step - loss: 8.3113e-04\n",
      "Epoch 68/100\n",
      "76/76 [==============================] - 25s 334ms/step - loss: 8.5819e-04\n",
      "Epoch 69/100\n",
      "76/76 [==============================] - 22s 291ms/step - loss: 0.0011\n",
      "Epoch 70/100\n",
      "76/76 [==============================] - 21s 282ms/step - loss: 9.9149e-04\n",
      "Epoch 71/100\n",
      "76/76 [==============================] - 24s 310ms/step - loss: 9.0989e-04\n",
      "Epoch 72/100\n",
      "76/76 [==============================] - 22s 289ms/step - loss: 8.1305e-04\n",
      "Epoch 73/100\n",
      "76/76 [==============================] - 19s 256ms/step - loss: 8.9031e-04\n",
      "Epoch 74/100\n",
      "76/76 [==============================] - 25s 327ms/step - loss: 8.0599e-04\n",
      "Epoch 75/100\n",
      "76/76 [==============================] - 25s 325ms/step - loss: 8.0068e-04\n",
      "Epoch 76/100\n",
      "76/76 [==============================] - 23s 297ms/step - loss: 8.1738e-04\n",
      "Epoch 77/100\n",
      "76/76 [==============================] - 29s 380ms/step - loss: 7.7942e-04\n",
      "Epoch 78/100\n",
      "76/76 [==============================] - 27s 350ms/step - loss: 8.5505e-04\n",
      "Epoch 79/100\n",
      "76/76 [==============================] - 26s 336ms/step - loss: 8.5342e-04\n",
      "Epoch 80/100\n",
      "76/76 [==============================] - 23s 301ms/step - loss: 8.9679e-04\n",
      "Epoch 81/100\n",
      "76/76 [==============================] - 20s 262ms/step - loss: 7.9009e-04\n",
      "Epoch 82/100\n",
      "76/76 [==============================] - 26s 346ms/step - loss: 7.5850e-04\n",
      "Epoch 83/100\n",
      "76/76 [==============================] - 21s 270ms/step - loss: 8.3929e-04\n",
      "Epoch 84/100\n",
      "76/76 [==============================] - 22s 291ms/step - loss: 7.3788e-04\n",
      "Epoch 85/100\n",
      "76/76 [==============================] - 22s 289ms/step - loss: 9.6661e-04\n",
      "Epoch 86/100\n",
      "76/76 [==============================] - 19s 257ms/step - loss: 8.0886e-04\n",
      "Epoch 87/100\n",
      "76/76 [==============================] - 19s 255ms/step - loss: 8.6383e-04\n",
      "Epoch 88/100\n",
      "76/76 [==============================] - 25s 330ms/step - loss: 8.1497e-04\n",
      "Epoch 89/100\n",
      "76/76 [==============================] - 22s 284ms/step - loss: 7.6986e-04\n",
      "Epoch 90/100\n",
      "76/76 [==============================] - 21s 274ms/step - loss: 8.4202e-04\n",
      "Epoch 91/100\n",
      "76/76 [==============================] - 21s 274ms/step - loss: 7.2771e-04\n",
      "Epoch 92/100\n",
      "76/76 [==============================] - 19s 251ms/step - loss: 7.8530e-04\n",
      "Epoch 93/100\n",
      "76/76 [==============================] - 21s 276ms/step - loss: 8.0307e-04\n",
      "Epoch 94/100\n",
      "76/76 [==============================] - 22s 292ms/step - loss: 8.1329e-04\n",
      "Epoch 95/100\n",
      "76/76 [==============================] - 17s 226ms/step - loss: 7.7512e-04\n",
      "Epoch 96/100\n",
      "76/76 [==============================] - 18s 242ms/step - loss: 7.6080e-04\n",
      "Epoch 97/100\n",
      "76/76 [==============================] - 16s 215ms/step - loss: 7.5275e-04\n",
      "Epoch 98/100\n",
      "76/76 [==============================] - 18s 233ms/step - loss: 6.6935e-04\n",
      "Epoch 99/100\n",
      "76/76 [==============================] - 16s 208ms/step - loss: 8.8353e-04\n",
      "Epoch 100/100\n",
      "76/76 [==============================] - 18s 236ms/step - loss: 8.2148e-04\n"
     ]
    },
    {
     "data": {
      "text/plain": [
       "<tensorflow.python.keras.callbacks.History at 0x7fd3a013ee50>"
      ]
     },
     "execution_count": 30,
     "metadata": {},
     "output_type": "execute_result"
    }
   ],
   "source": [
    "# Fitting the RNN to the Training set\n",
    "regressor.fit(X_train, y_train, epochs = 100, batch_size = 32)"
   ]
  },
  {
   "cell_type": "code",
   "execution_count": 31,
   "metadata": {},
   "outputs": [
    {
     "data": {
      "text/html": [
       "<div>\n",
       "<style scoped>\n",
       "    .dataframe tbody tr th:only-of-type {\n",
       "        vertical-align: middle;\n",
       "    }\n",
       "\n",
       "    .dataframe tbody tr th {\n",
       "        vertical-align: top;\n",
       "    }\n",
       "\n",
       "    .dataframe thead th {\n",
       "        text-align: right;\n",
       "    }\n",
       "</style>\n",
       "<table border=\"1\" class=\"dataframe\">\n",
       "  <thead>\n",
       "    <tr style=\"text-align: right;\">\n",
       "      <th></th>\n",
       "      <th>Date</th>\n",
       "      <th>Open</th>\n",
       "      <th>High</th>\n",
       "      <th>Low</th>\n",
       "      <th>Close</th>\n",
       "      <th>Adj Close</th>\n",
       "      <th>Volume</th>\n",
       "    </tr>\n",
       "  </thead>\n",
       "  <tbody>\n",
       "    <tr>\n",
       "      <th>0</th>\n",
       "      <td>2019-08-01</td>\n",
       "      <td>324.250000</td>\n",
       "      <td>328.579987</td>\n",
       "      <td>318.739990</td>\n",
       "      <td>319.500000</td>\n",
       "      <td>319.500000</td>\n",
       "      <td>6563200</td>\n",
       "    </tr>\n",
       "    <tr>\n",
       "      <th>1</th>\n",
       "      <td>2019-08-02</td>\n",
       "      <td>317.489990</td>\n",
       "      <td>319.410004</td>\n",
       "      <td>311.799988</td>\n",
       "      <td>318.829987</td>\n",
       "      <td>318.829987</td>\n",
       "      <td>6280300</td>\n",
       "    </tr>\n",
       "    <tr>\n",
       "      <th>2</th>\n",
       "      <td>2019-08-05</td>\n",
       "      <td>310.959991</td>\n",
       "      <td>313.420013</td>\n",
       "      <td>304.679993</td>\n",
       "      <td>307.630005</td>\n",
       "      <td>307.630005</td>\n",
       "      <td>8692500</td>\n",
       "    </tr>\n",
       "    <tr>\n",
       "      <th>3</th>\n",
       "      <td>2019-08-06</td>\n",
       "      <td>310.579987</td>\n",
       "      <td>311.880005</td>\n",
       "      <td>305.299988</td>\n",
       "      <td>310.100006</td>\n",
       "      <td>310.100006</td>\n",
       "      <td>6179100</td>\n",
       "    </tr>\n",
       "    <tr>\n",
       "      <th>4</th>\n",
       "      <td>2019-08-07</td>\n",
       "      <td>302.559998</td>\n",
       "      <td>305.000000</td>\n",
       "      <td>296.809998</td>\n",
       "      <td>304.290009</td>\n",
       "      <td>304.290009</td>\n",
       "      <td>9322400</td>\n",
       "    </tr>\n",
       "    <tr>\n",
       "      <th>5</th>\n",
       "      <td>2019-08-08</td>\n",
       "      <td>311.029999</td>\n",
       "      <td>316.359985</td>\n",
       "      <td>306.630005</td>\n",
       "      <td>315.899994</td>\n",
       "      <td>315.899994</td>\n",
       "      <td>5905900</td>\n",
       "    </tr>\n",
       "    <tr>\n",
       "      <th>6</th>\n",
       "      <td>2019-08-09</td>\n",
       "      <td>313.739990</td>\n",
       "      <td>316.640015</td>\n",
       "      <td>305.679993</td>\n",
       "      <td>308.929993</td>\n",
       "      <td>308.929993</td>\n",
       "      <td>5349100</td>\n",
       "    </tr>\n",
       "    <tr>\n",
       "      <th>7</th>\n",
       "      <td>2019-08-12</td>\n",
       "      <td>305.459991</td>\n",
       "      <td>312.890015</td>\n",
       "      <td>303.239990</td>\n",
       "      <td>310.829987</td>\n",
       "      <td>310.829987</td>\n",
       "      <td>6531700</td>\n",
       "    </tr>\n",
       "    <tr>\n",
       "      <th>8</th>\n",
       "      <td>2019-08-13</td>\n",
       "      <td>309.769989</td>\n",
       "      <td>316.429993</td>\n",
       "      <td>308.160004</td>\n",
       "      <td>312.279999</td>\n",
       "      <td>312.279999</td>\n",
       "      <td>5289400</td>\n",
       "    </tr>\n",
       "    <tr>\n",
       "      <th>9</th>\n",
       "      <td>2019-08-14</td>\n",
       "      <td>308.010010</td>\n",
       "      <td>308.410004</td>\n",
       "      <td>298.010010</td>\n",
       "      <td>299.109985</td>\n",
       "      <td>299.109985</td>\n",
       "      <td>7355800</td>\n",
       "    </tr>\n",
       "    <tr>\n",
       "      <th>10</th>\n",
       "      <td>2019-08-15</td>\n",
       "      <td>299.500000</td>\n",
       "      <td>300.630005</td>\n",
       "      <td>288.000000</td>\n",
       "      <td>295.760010</td>\n",
       "      <td>295.760010</td>\n",
       "      <td>9629200</td>\n",
       "    </tr>\n",
       "    <tr>\n",
       "      <th>11</th>\n",
       "      <td>2019-08-16</td>\n",
       "      <td>298.859985</td>\n",
       "      <td>303.549988</td>\n",
       "      <td>296.269989</td>\n",
       "      <td>302.799988</td>\n",
       "      <td>302.799988</td>\n",
       "      <td>6905800</td>\n",
       "    </tr>\n",
       "    <tr>\n",
       "      <th>12</th>\n",
       "      <td>2019-08-19</td>\n",
       "      <td>306.250000</td>\n",
       "      <td>311.750000</td>\n",
       "      <td>304.750000</td>\n",
       "      <td>309.380005</td>\n",
       "      <td>309.380005</td>\n",
       "      <td>4942200</td>\n",
       "    </tr>\n",
       "    <tr>\n",
       "      <th>13</th>\n",
       "      <td>2019-08-20</td>\n",
       "      <td>304.570007</td>\n",
       "      <td>305.000000</td>\n",
       "      <td>297.679993</td>\n",
       "      <td>298.989990</td>\n",
       "      <td>298.989990</td>\n",
       "      <td>7349900</td>\n",
       "    </tr>\n",
       "    <tr>\n",
       "      <th>14</th>\n",
       "      <td>2019-08-21</td>\n",
       "      <td>301.609985</td>\n",
       "      <td>302.880005</td>\n",
       "      <td>296.200012</td>\n",
       "      <td>297.809998</td>\n",
       "      <td>297.809998</td>\n",
       "      <td>5685400</td>\n",
       "    </tr>\n",
       "    <tr>\n",
       "      <th>15</th>\n",
       "      <td>2019-08-22</td>\n",
       "      <td>298.649994</td>\n",
       "      <td>300.329987</td>\n",
       "      <td>293.149994</td>\n",
       "      <td>296.929993</td>\n",
       "      <td>296.929993</td>\n",
       "      <td>4974200</td>\n",
       "    </tr>\n",
       "    <tr>\n",
       "      <th>16</th>\n",
       "      <td>2019-08-23</td>\n",
       "      <td>295.000000</td>\n",
       "      <td>299.010010</td>\n",
       "      <td>290.320007</td>\n",
       "      <td>291.440002</td>\n",
       "      <td>291.440002</td>\n",
       "      <td>6324900</td>\n",
       "    </tr>\n",
       "    <tr>\n",
       "      <th>17</th>\n",
       "      <td>2019-08-26</td>\n",
       "      <td>295.239990</td>\n",
       "      <td>296.950012</td>\n",
       "      <td>292.500000</td>\n",
       "      <td>294.980011</td>\n",
       "      <td>294.980011</td>\n",
       "      <td>4695700</td>\n",
       "    </tr>\n",
       "    <tr>\n",
       "      <th>18</th>\n",
       "      <td>2019-08-27</td>\n",
       "      <td>294.540009</td>\n",
       "      <td>296.769989</td>\n",
       "      <td>287.200012</td>\n",
       "      <td>291.029999</td>\n",
       "      <td>291.029999</td>\n",
       "      <td>6309400</td>\n",
       "    </tr>\n",
       "    <tr>\n",
       "      <th>19</th>\n",
       "      <td>2019-08-28</td>\n",
       "      <td>289.470001</td>\n",
       "      <td>292.820007</td>\n",
       "      <td>287.750000</td>\n",
       "      <td>291.769989</td>\n",
       "      <td>291.769989</td>\n",
       "      <td>3955700</td>\n",
       "    </tr>\n",
       "    <tr>\n",
       "      <th>20</th>\n",
       "      <td>2019-08-29</td>\n",
       "      <td>295.000000</td>\n",
       "      <td>299.929993</td>\n",
       "      <td>294.989990</td>\n",
       "      <td>296.779999</td>\n",
       "      <td>296.779999</td>\n",
       "      <td>4388500</td>\n",
       "    </tr>\n",
       "    <tr>\n",
       "      <th>21</th>\n",
       "      <td>2019-08-30</td>\n",
       "      <td>298.779999</td>\n",
       "      <td>298.940002</td>\n",
       "      <td>290.850006</td>\n",
       "      <td>293.750000</td>\n",
       "      <td>293.750000</td>\n",
       "      <td>4446400</td>\n",
       "    </tr>\n",
       "  </tbody>\n",
       "</table>\n",
       "</div>"
      ],
      "text/plain": [
       "          Date        Open        High         Low       Close   Adj Close  \\\n",
       "0   2019-08-01  324.250000  328.579987  318.739990  319.500000  319.500000   \n",
       "1   2019-08-02  317.489990  319.410004  311.799988  318.829987  318.829987   \n",
       "2   2019-08-05  310.959991  313.420013  304.679993  307.630005  307.630005   \n",
       "3   2019-08-06  310.579987  311.880005  305.299988  310.100006  310.100006   \n",
       "4   2019-08-07  302.559998  305.000000  296.809998  304.290009  304.290009   \n",
       "5   2019-08-08  311.029999  316.359985  306.630005  315.899994  315.899994   \n",
       "6   2019-08-09  313.739990  316.640015  305.679993  308.929993  308.929993   \n",
       "7   2019-08-12  305.459991  312.890015  303.239990  310.829987  310.829987   \n",
       "8   2019-08-13  309.769989  316.429993  308.160004  312.279999  312.279999   \n",
       "9   2019-08-14  308.010010  308.410004  298.010010  299.109985  299.109985   \n",
       "10  2019-08-15  299.500000  300.630005  288.000000  295.760010  295.760010   \n",
       "11  2019-08-16  298.859985  303.549988  296.269989  302.799988  302.799988   \n",
       "12  2019-08-19  306.250000  311.750000  304.750000  309.380005  309.380005   \n",
       "13  2019-08-20  304.570007  305.000000  297.679993  298.989990  298.989990   \n",
       "14  2019-08-21  301.609985  302.880005  296.200012  297.809998  297.809998   \n",
       "15  2019-08-22  298.649994  300.329987  293.149994  296.929993  296.929993   \n",
       "16  2019-08-23  295.000000  299.010010  290.320007  291.440002  291.440002   \n",
       "17  2019-08-26  295.239990  296.950012  292.500000  294.980011  294.980011   \n",
       "18  2019-08-27  294.540009  296.769989  287.200012  291.029999  291.029999   \n",
       "19  2019-08-28  289.470001  292.820007  287.750000  291.769989  291.769989   \n",
       "20  2019-08-29  295.000000  299.929993  294.989990  296.779999  296.779999   \n",
       "21  2019-08-30  298.779999  298.940002  290.850006  293.750000  293.750000   \n",
       "\n",
       "     Volume  \n",
       "0   6563200  \n",
       "1   6280300  \n",
       "2   8692500  \n",
       "3   6179100  \n",
       "4   9322400  \n",
       "5   5905900  \n",
       "6   5349100  \n",
       "7   6531700  \n",
       "8   5289400  \n",
       "9   7355800  \n",
       "10  9629200  \n",
       "11  6905800  \n",
       "12  4942200  \n",
       "13  7349900  \n",
       "14  5685400  \n",
       "15  4974200  \n",
       "16  6324900  \n",
       "17  4695700  \n",
       "18  6309400  \n",
       "19  3955700  \n",
       "20  4388500  \n",
       "21  4446400  "
      ]
     },
     "execution_count": 31,
     "metadata": {},
     "output_type": "execute_result"
    }
   ],
   "source": [
    "# Getting the real stock price for 2019-08-01- \n",
    "# 2019-08-31\n",
    "dataset_test = pd.read_csv('Netflix_test.csv')\n",
    "#printing the data\n",
    "dataset_test"
   ]
  },
  {
   "cell_type": "code",
   "execution_count": 32,
   "metadata": {},
   "outputs": [
    {
     "data": {
      "text/plain": [
       "22"
      ]
     },
     "execution_count": 32,
     "metadata": {},
     "output_type": "execute_result"
    }
   ],
   "source": [
    "#Selecting the column\n",
    "real_stock_price = dataset_test.iloc[:, 1:2].values\n",
    "real_stock_price.size"
   ]
  },
  {
   "cell_type": "code",
   "execution_count": 33,
   "metadata": {},
   "outputs": [
    {
     "data": {
      "text/plain": [
       "array([[324.25    ],\n",
       "       [317.48999 ],\n",
       "       [310.959991],\n",
       "       [310.579987],\n",
       "       [302.559998],\n",
       "       [311.029999],\n",
       "       [313.73999 ],\n",
       "       [305.459991],\n",
       "       [309.769989],\n",
       "       [308.01001 ],\n",
       "       [299.5     ],\n",
       "       [298.859985],\n",
       "       [306.25    ],\n",
       "       [304.570007],\n",
       "       [301.609985],\n",
       "       [298.649994],\n",
       "       [295.      ],\n",
       "       [295.23999 ],\n",
       "       [294.540009],\n",
       "       [289.470001],\n",
       "       [295.      ],\n",
       "       [298.779999]])"
      ]
     },
     "execution_count": 33,
     "metadata": {},
     "output_type": "execute_result"
    }
   ],
   "source": [
    "#printing the data\n",
    "real_stock_price"
   ]
  },
  {
   "cell_type": "code",
   "execution_count": 34,
   "metadata": {},
   "outputs": [],
   "source": [
    "# Getting the predicted stock price of 2019\n",
    "\n",
    "#concatinaning dataset_train\n",
    "dataset_total = pd.concat((dataset_train['Open'], dataset_test['Open']), axis = 0) "
   ]
  },
  {
   "cell_type": "code",
   "execution_count": 35,
   "metadata": {},
   "outputs": [
    {
     "data": {
      "text/plain": [
       "2538"
      ]
     },
     "execution_count": 35,
     "metadata": {},
     "output_type": "execute_result"
    }
   ],
   "source": [
    "#showing the number of records\n",
    "dataset_total.size\n"
   ]
  },
  {
   "cell_type": "code",
   "execution_count": 36,
   "metadata": {},
   "outputs": [],
   "source": [
    "#creating dataset_total\n",
    "inputs = dataset_total[len(dataset_total) - len(dataset_test) - 90:].values"
   ]
  },
  {
   "cell_type": "code",
   "execution_count": 37,
   "metadata": {},
   "outputs": [
    {
     "data": {
      "text/plain": [
       "112"
      ]
     },
     "execution_count": 37,
     "metadata": {},
     "output_type": "execute_result"
    }
   ],
   "source": [
    "#showing the inputs size\n",
    "inputs.size"
   ]
  },
  {
   "cell_type": "code",
   "execution_count": 38,
   "metadata": {},
   "outputs": [],
   "source": [
    "# reshaping the data\n",
    "\n",
    "inputs = inputs.reshape(-1,1) \n",
    "\n",
    "# applying the feature scaler\n",
    "inputs = sc.transform(inputs)"
   ]
  },
  {
   "cell_type": "code",
   "execution_count": 39,
   "metadata": {},
   "outputs": [],
   "source": [
    "# Getting the predicted stock price of 2019\n",
    "X_test = []"
   ]
  },
  {
   "cell_type": "code",
   "execution_count": 40,
   "metadata": {},
   "outputs": [],
   "source": [
    "# creating the foor-loop and appending the values\n",
    "for i in range(90, 112): \n",
    "    X_test.append(inputs[i-90:i, 0])\n"
   ]
  },
  {
   "cell_type": "code",
   "execution_count": 41,
   "metadata": {},
   "outputs": [],
   "source": [
    "#converting to np array\n",
    "X_test = np.array(X_test) "
   ]
  },
  {
   "cell_type": "code",
   "execution_count": 42,
   "metadata": {},
   "outputs": [],
   "source": [
    "# creating a 3D structure\n",
    "X_test = np.reshape(X_test, (X_test.shape[0], X_test.shape[1], 1))"
   ]
  },
  {
   "cell_type": "code",
   "execution_count": 43,
   "metadata": {},
   "outputs": [],
   "source": [
    "#predicting the values\n",
    "predicted_stock_price = regressor.predict(X_test)"
   ]
  },
  {
   "cell_type": "code",
   "execution_count": 44,
   "metadata": {},
   "outputs": [
    {
     "data": {
      "text/plain": [
       "22"
      ]
     },
     "execution_count": 44,
     "metadata": {},
     "output_type": "execute_result"
    }
   ],
   "source": [
    "# invers transformation\n",
    "predicted_stock_price = sc.inverse_transform(predicted_stock_price) \n",
    "predicted_stock_price.size"
   ]
  },
  {
   "cell_type": "markdown",
   "metadata": {},
   "source": [
    "### Result Visualization\n"
   ]
  },
  {
   "cell_type": "code",
   "execution_count": 45,
   "metadata": {},
   "outputs": [
    {
     "data": {
      "image/png": "[encoded data removed]",
      "text/plain": [
       "<Figure size 432x288 with 1 Axes>"
      ]
     },
     "metadata": {
      "needs_background": "light"
     },
     "output_type": "display_data"
    }
   ],
   "source": [
    "# Visualising the results\n",
    "\n",
    "plt.plot(real_stock_price, color = 'red', label = 'Real Netflix Stock Price')\n",
    "\n",
    "plt.plot(predicted_stock_price, color = 'blue', label = 'Predicted Netflix Stock Price')\n",
    "\n",
    "plt.title('Netflix Stock Price Prediction')\n",
    "plt.xlabel('Time')\n",
    "plt.ylabel('Netflix Stock Price')\n",
    "plt.legend()\n",
    "\n",
    "plt.show()"
   ]
  }
 ],
 "metadata": {
  "kernelspec": {
   "display_name": "Python 3",
   "language": "python",
   "name": "python3"
  },
  "language_info": {
   "codemirror_mode": {
    "name": "ipython",
    "version": 3
   },
   "file_extension": ".py",
   "mimetype": "text/x-python",
   "name": "python",
   "nbconvert_exporter": "python",
   "pygments_lexer": "ipython3",
   "version": "3.8.5"
  }
 },
 "nbformat": 4,
 "nbformat_minor": 2
}
